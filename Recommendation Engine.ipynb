{
 "cells": [
  {
   "cell_type": "code",
   "execution_count": 95,
   "id": "b039e425",
   "metadata": {},
   "outputs": [],
   "source": [
    "import pandas as pd\n",
    "import numpy as np\n",
    "\n",
    "task_data = [\n",
    "    ['Data Scientist','Python,Statistics,Machine Learning,Data Visualization'],\n",
    "    ['ML Engineer','Python,Machine Learning,Deployment,Algorithms'],\n",
    "    ['Data Analyst','SQL,Python,Data Visualization,Excel'],\n",
    "    ['Data Engineer','Python,SQL,ETL,Cloud Computing'],\n",
    "    ['AI Researcher','Python,Deep Learning,Machine Learning,Algorithms'],\n",
    "    ['Business Analyst','Excel,SQL,Data Visualization,Business Intelligence'],\n",
    "    ['NLP Engineer','Python,NLP,Machine Learning,Deep Learning']\n",
    "]"
   ]
  },
  {
   "cell_type": "code",
   "execution_count": 96,
   "id": "e57b36a8",
   "metadata": {},
   "outputs": [],
   "source": [
    "df = pd.DataFrame(task_data, columns=['Role','Skills'])"
   ]
  },
  {
   "cell_type": "code",
   "execution_count": 97,
   "id": "88166d91",
   "metadata": {},
   "outputs": [
    {
     "data": {
      "text/html": [
       "<div>\n",
       "<style scoped>\n",
       "    .dataframe tbody tr th:only-of-type {\n",
       "        vertical-align: middle;\n",
       "    }\n",
       "\n",
       "    .dataframe tbody tr th {\n",
       "        vertical-align: top;\n",
       "    }\n",
       "\n",
       "    .dataframe thead th {\n",
       "        text-align: right;\n",
       "    }\n",
       "</style>\n",
       "<table border=\"1\" class=\"dataframe\">\n",
       "  <thead>\n",
       "    <tr style=\"text-align: right;\">\n",
       "      <th></th>\n",
       "      <th>Role</th>\n",
       "      <th>Skills</th>\n",
       "    </tr>\n",
       "  </thead>\n",
       "  <tbody>\n",
       "    <tr>\n",
       "      <th>0</th>\n",
       "      <td>Data Scientist</td>\n",
       "      <td>Python,Statistics,Machine Learning,Data Visual...</td>\n",
       "    </tr>\n",
       "    <tr>\n",
       "      <th>1</th>\n",
       "      <td>ML Engineer</td>\n",
       "      <td>Python,Machine Learning,Deployment,Algorithms</td>\n",
       "    </tr>\n",
       "    <tr>\n",
       "      <th>2</th>\n",
       "      <td>Data Analyst</td>\n",
       "      <td>SQL,Python,Data Visualization,Excel</td>\n",
       "    </tr>\n",
       "    <tr>\n",
       "      <th>3</th>\n",
       "      <td>Data Engineer</td>\n",
       "      <td>Python,SQL,ETL,Cloud Computing</td>\n",
       "    </tr>\n",
       "    <tr>\n",
       "      <th>4</th>\n",
       "      <td>AI Researcher</td>\n",
       "      <td>Python,Deep Learning,Machine Learning,Algorithms</td>\n",
       "    </tr>\n",
       "    <tr>\n",
       "      <th>5</th>\n",
       "      <td>Business Analyst</td>\n",
       "      <td>Excel,SQL,Data Visualization,Business Intellig...</td>\n",
       "    </tr>\n",
       "    <tr>\n",
       "      <th>6</th>\n",
       "      <td>NLP Engineer</td>\n",
       "      <td>Python,NLP,Machine Learning,Deep Learning</td>\n",
       "    </tr>\n",
       "  </tbody>\n",
       "</table>\n",
       "</div>"
      ],
      "text/plain": [
       "               Role                                             Skills\n",
       "0    Data Scientist  Python,Statistics,Machine Learning,Data Visual...\n",
       "1       ML Engineer      Python,Machine Learning,Deployment,Algorithms\n",
       "2      Data Analyst                SQL,Python,Data Visualization,Excel\n",
       "3     Data Engineer                     Python,SQL,ETL,Cloud Computing\n",
       "4     AI Researcher   Python,Deep Learning,Machine Learning,Algorithms\n",
       "5  Business Analyst  Excel,SQL,Data Visualization,Business Intellig...\n",
       "6      NLP Engineer          Python,NLP,Machine Learning,Deep Learning"
      ]
     },
     "execution_count": 97,
     "metadata": {},
     "output_type": "execute_result"
    }
   ],
   "source": [
    "df"
   ]
  },
  {
   "cell_type": "code",
   "execution_count": 98,
   "id": "2d762a31",
   "metadata": {},
   "outputs": [
    {
     "data": {
      "text/plain": [
       "(7, 2)"
      ]
     },
     "execution_count": 98,
     "metadata": {},
     "output_type": "execute_result"
    }
   ],
   "source": [
    "df.shape"
   ]
  },
  {
   "cell_type": "code",
   "execution_count": 99,
   "id": "10829adb",
   "metadata": {},
   "outputs": [],
   "source": [
    "df['Skills'] = df['Skills'].apply(lambda x:x.lower())"
   ]
  },
  {
   "cell_type": "code",
   "execution_count": 100,
   "id": "6795ce1e",
   "metadata": {},
   "outputs": [
    {
     "data": {
      "text/html": [
       "<div>\n",
       "<style scoped>\n",
       "    .dataframe tbody tr th:only-of-type {\n",
       "        vertical-align: middle;\n",
       "    }\n",
       "\n",
       "    .dataframe tbody tr th {\n",
       "        vertical-align: top;\n",
       "    }\n",
       "\n",
       "    .dataframe thead th {\n",
       "        text-align: right;\n",
       "    }\n",
       "</style>\n",
       "<table border=\"1\" class=\"dataframe\">\n",
       "  <thead>\n",
       "    <tr style=\"text-align: right;\">\n",
       "      <th></th>\n",
       "      <th>Role</th>\n",
       "      <th>Skills</th>\n",
       "    </tr>\n",
       "  </thead>\n",
       "  <tbody>\n",
       "    <tr>\n",
       "      <th>0</th>\n",
       "      <td>Data Scientist</td>\n",
       "      <td>python,statistics,machine learning,data visual...</td>\n",
       "    </tr>\n",
       "    <tr>\n",
       "      <th>1</th>\n",
       "      <td>ML Engineer</td>\n",
       "      <td>python,machine learning,deployment,algorithms</td>\n",
       "    </tr>\n",
       "    <tr>\n",
       "      <th>2</th>\n",
       "      <td>Data Analyst</td>\n",
       "      <td>sql,python,data visualization,excel</td>\n",
       "    </tr>\n",
       "    <tr>\n",
       "      <th>3</th>\n",
       "      <td>Data Engineer</td>\n",
       "      <td>python,sql,etl,cloud computing</td>\n",
       "    </tr>\n",
       "    <tr>\n",
       "      <th>4</th>\n",
       "      <td>AI Researcher</td>\n",
       "      <td>python,deep learning,machine learning,algorithms</td>\n",
       "    </tr>\n",
       "    <tr>\n",
       "      <th>5</th>\n",
       "      <td>Business Analyst</td>\n",
       "      <td>excel,sql,data visualization,business intellig...</td>\n",
       "    </tr>\n",
       "    <tr>\n",
       "      <th>6</th>\n",
       "      <td>NLP Engineer</td>\n",
       "      <td>python,nlp,machine learning,deep learning</td>\n",
       "    </tr>\n",
       "  </tbody>\n",
       "</table>\n",
       "</div>"
      ],
      "text/plain": [
       "               Role                                             Skills\n",
       "0    Data Scientist  python,statistics,machine learning,data visual...\n",
       "1       ML Engineer      python,machine learning,deployment,algorithms\n",
       "2      Data Analyst                sql,python,data visualization,excel\n",
       "3     Data Engineer                     python,sql,etl,cloud computing\n",
       "4     AI Researcher   python,deep learning,machine learning,algorithms\n",
       "5  Business Analyst  excel,sql,data visualization,business intellig...\n",
       "6      NLP Engineer          python,nlp,machine learning,deep learning"
      ]
     },
     "execution_count": 100,
     "metadata": {},
     "output_type": "execute_result"
    }
   ],
   "source": [
    "df"
   ]
  },
  {
   "cell_type": "markdown",
   "id": "91a57452",
   "metadata": {},
   "source": [
    "# Vectorization"
   ]
  },
  {
   "cell_type": "code",
   "execution_count": 101,
   "id": "8fb2ac17",
   "metadata": {},
   "outputs": [],
   "source": [
    "from sklearn.feature_extraction.text import CountVectorizer\n",
    "cv = CountVectorizer(max_features=10,stop_words='english')"
   ]
  },
  {
   "cell_type": "code",
   "execution_count": 102,
   "id": "d4d57800",
   "metadata": {},
   "outputs": [],
   "source": [
    "vectors = cv.fit_transform(df['Skills']).toarray()"
   ]
  },
  {
   "cell_type": "code",
   "execution_count": 103,
   "id": "5d1d5337",
   "metadata": {},
   "outputs": [
    {
     "data": {
      "text/plain": [
       "array([[0, 1, 0, 0, 0, 1, 1, 1, 0, 1],\n",
       "       [1, 0, 0, 0, 0, 1, 1, 1, 0, 0],\n",
       "       [0, 1, 0, 0, 1, 0, 0, 1, 1, 1],\n",
       "       [0, 0, 0, 1, 0, 0, 0, 1, 1, 0],\n",
       "       [1, 0, 1, 0, 0, 2, 1, 1, 0, 0],\n",
       "       [0, 1, 0, 0, 1, 0, 0, 0, 1, 1],\n",
       "       [0, 0, 1, 0, 0, 2, 1, 1, 0, 0]], dtype=int64)"
      ]
     },
     "execution_count": 103,
     "metadata": {},
     "output_type": "execute_result"
    }
   ],
   "source": [
    "vectors"
   ]
  },
  {
   "cell_type": "code",
   "execution_count": 104,
   "id": "a749953c",
   "metadata": {},
   "outputs": [
    {
     "data": {
      "text/plain": [
       "(7, 10)"
      ]
     },
     "execution_count": 104,
     "metadata": {},
     "output_type": "execute_result"
    }
   ],
   "source": [
    "vectors.shape"
   ]
  },
  {
   "cell_type": "code",
   "execution_count": 105,
   "id": "4604ffa5",
   "metadata": {},
   "outputs": [
    {
     "data": {
      "text/plain": [
       "array(['algorithms', 'data', 'deep', 'etl', 'excel', 'learning',\n",
       "       'machine', 'python', 'sql', 'visualization'], dtype=object)"
      ]
     },
     "execution_count": 105,
     "metadata": {},
     "output_type": "execute_result"
    }
   ],
   "source": [
    "cv.get_feature_names_out()"
   ]
  },
  {
   "cell_type": "code",
   "execution_count": 106,
   "id": "a2359802",
   "metadata": {},
   "outputs": [],
   "source": [
    "from sklearn.metrics.pairwise import cosine_similarity"
   ]
  },
  {
   "cell_type": "code",
   "execution_count": 107,
   "id": "8e01d856",
   "metadata": {},
   "outputs": [],
   "source": [
    "similarity = cosine_similarity(vectors)"
   ]
  },
  {
   "cell_type": "code",
   "execution_count": 108,
   "id": "120d8fa5",
   "metadata": {},
   "outputs": [
    {
     "data": {
      "text/plain": [
       "(7, 7)"
      ]
     },
     "execution_count": 108,
     "metadata": {},
     "output_type": "execute_result"
    }
   ],
   "source": [
    "similarity.shape"
   ]
  },
  {
   "cell_type": "code",
   "execution_count": 109,
   "id": "602c576e",
   "metadata": {},
   "outputs": [
    {
     "data": {
      "text/plain": [
       "array([0.67082039, 1.        , 0.2236068 , 0.28867513, 0.88388348,\n",
       "       0.        , 0.75592895])"
      ]
     },
     "execution_count": 109,
     "metadata": {},
     "output_type": "execute_result"
    }
   ],
   "source": [
    "similarity[1]"
   ]
  },
  {
   "cell_type": "markdown",
   "id": "eb58189b",
   "metadata": {},
   "source": [
    "#  Main Function For Recommendation"
   ]
  },
  {
   "cell_type": "code",
   "execution_count": 110,
   "id": "85fbec16",
   "metadata": {},
   "outputs": [],
   "source": [
    "def recommend(position):\n",
    "    role_index = df[df['Role'] == position].index[0]\n",
    "    distances = similarity[role_index]\n",
    "    top_roles = sorted(list(enumerate(distances)),reverse=True,key=lambda x:x[1])[1:4]\n",
    "    \n",
    "    for i in top_roles:\n",
    "        print(df.iloc[i[0]].Role)"
   ]
  },
  {
   "cell_type": "code",
   "execution_count": 111,
   "id": "a6899804",
   "metadata": {},
   "outputs": [
    {
     "name": "stdout",
     "output_type": "stream",
     "text": [
      "NLP Engineer\n",
      "ML Engineer\n",
      "AI Researcher\n"
     ]
    }
   ],
   "source": [
    "recommend('Data Scientist')"
   ]
  },
  {
   "cell_type": "code",
   "execution_count": 112,
   "id": "f0740e84",
   "metadata": {},
   "outputs": [
    {
     "name": "stdout",
     "output_type": "stream",
     "text": [
      "Data Analyst\n",
      "Data Scientist\n",
      "Data Engineer\n"
     ]
    }
   ],
   "source": [
    "recommend('Business Analyst')"
   ]
  },
  {
   "cell_type": "code",
   "execution_count": null,
   "id": "d14942bc",
   "metadata": {},
   "outputs": [],
   "source": []
  }
 ],
 "metadata": {
  "kernelspec": {
   "display_name": "Python 3 (ipykernel)",
   "language": "python",
   "name": "python3"
  },
  "language_info": {
   "codemirror_mode": {
    "name": "ipython",
    "version": 3
   },
   "file_extension": ".py",
   "mimetype": "text/x-python",
   "name": "python",
   "nbconvert_exporter": "python",
   "pygments_lexer": "ipython3",
   "version": "3.10.9"
  }
 },
 "nbformat": 4,
 "nbformat_minor": 5
}
